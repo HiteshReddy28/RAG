{
 "cells": [
  {
   "cell_type": "code",
   "execution_count": 1,
   "id": "1db46763",
   "metadata": {},
   "outputs": [],
   "source": [
    "import tensorflow as tf"
   ]
  },
  {
   "cell_type": "code",
   "execution_count": null,
   "id": "4d13219c",
   "metadata": {},
   "outputs": [],
   "source": [
    "tf.nn."
   ]
  }
 ],
 "metadata": {
  "kernelspec": {
   "display_name": "rag (3.12.1)",
   "language": "python",
   "name": "python3"
  },
  "language_info": {
   "codemirror_mode": {
    "name": "ipython",
    "version": 3
   },
   "file_extension": ".py",
   "mimetype": "text/x-python",
   "name": "python",
   "nbconvert_exporter": "python",
   "pygments_lexer": "ipython3",
   "version": "3.12.1"
  }
 },
 "nbformat": 4,
 "nbformat_minor": 5
}

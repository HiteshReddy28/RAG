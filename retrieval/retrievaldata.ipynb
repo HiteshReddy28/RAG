{
 "cells": [
  {
   "cell_type": "code",
   "execution_count": 22,
   "id": "9d3c58ce",
   "metadata": {},
   "outputs": [],
   "source": [
    "from dotenv import load_dotenv\n",
    "from pinecone import Pinecone\n",
    "import os\n",
    "import google.generativeai as genai\n",
    "\n",
    "load_dotenv()\n",
    "\n",
    "api_key = os.getenv(\"PINE_CONE_KEY\")\n",
    "pc = Pinecone(api_key = api_key)\n",
    "index = pc.Index(\"rag\")\n",
    "\n",
    "api_key = os.getenv(\"GEMINI_API_KEY\")\n",
    "genai.configure(api_key=api_key)"
   ]
  },
  {
   "cell_type": "code",
   "execution_count": 23,
   "id": "1f922784",
   "metadata": {},
   "outputs": [],
   "source": [
    "user_query = \"What are the key things to consider when working on F1 Stem opt \" \n",
    "\n",
    "query_vector = genai.embed_content(\n",
    "    model=\"models/embedding-001\",   # same model as you used before\n",
    "    content=user_query\n",
    ")[\"embedding\"]"
   ]
  },
  {
   "cell_type": "code",
   "execution_count": 24,
   "id": "cab64cf8",
   "metadata": {},
   "outputs": [
    {
     "name": "stdout",
     "output_type": "stream",
     "text": [
      "[-0.0060856626, -0.09055217, -0.041418403, -0.068905726, 0.056084067, 0.03704344, -0.020833861, -0.017179484, -0.027870877, 0.012690554, 0.03226476, -0.00068110815, -0.023542423, 0.021380402, 0.035143357, -0.038838167, 0.02161672, -0.014981312, -0.015205486, -0.033725128, -0.028842917, 0.019137852, 0.044653393, -0.0026734313, -0.007508047, 0.000692931, 0.0038232473, -0.09664589, 0.0097160945, 0.06833676, -0.08004796, 0.040081713, -0.092318065, 0.0007946156, 0.016716179, -0.08051668, -0.0045873243, 0.028710231, -0.04530112, -0.0064452933, -0.024486277, -0.0071459967, -0.028172458, -0.04165066, -0.014726559, -0.042759754, 0.011725587, 0.058349267, -0.047388688, -0.033918142, 0.010891707, -0.021471864, 0.05101163, -0.013043907, -0.0027179401, 0.0018701392, 0.042366456, -0.058688313, 0.043816023, 0.028003061, 0.002098559, 0.012352637, -0.017748179, 0.035855755, 0.02872987, -0.04905246, -0.013439708, 0.004669709, 0.03734715, -0.03625553, -0.020502482, -0.006826968, 0.023887051, -0.008292474, -0.012428766, -0.05967686, -0.010286875, 0.018057691, 0.0134553565, 0.018939598, 0.00029252967, -0.028275058, -0.06266874, -0.043623175, -0.026637072, 0.014024607, -0.021270746, -0.00799121, 0.018110627, -0.017983383, -0.016857253, -0.074723765, 0.017515166, -0.051789258, -0.0032036193, 0.002607695, -0.005182277, -0.024590343, 0.014383559, -0.041337315, 0.00023979503, -0.017556895, 0.0012049697, -0.021319749, 0.06678737, 0.045522597, -0.01590604, 0.011384444, -0.017664762, 0.045086924, -0.029769145, 0.02121177, -0.008323761, -0.05102089, 0.025239676, -0.034449577, 0.01887508, 0.08880761, 0.021583227, 0.020930577, 0.050627783, -0.0066188513, 0.03808073, -0.009903874, -0.009043706, 0.048168987, 0.03987309, 0.000890452, 0.05994422, 0.058394145, -0.043742757, -0.021961875, -0.024058033, -0.022683196, 0.0723245, 0.04674142, 0.06187225, -0.012514557, 0.06411195, 0.03234532, -0.004663104, -0.016976636, 0.0148132285, 0.036449395, -0.04906543, 0.002845233, 0.021025568, -0.00027785808, 0.0266834, -0.0007632731, -0.041709434, 0.003922768, -0.012910703, -0.005488537, -0.003504765, -0.011485513, -0.0032481847, -0.008141307, 0.06134337, 0.009657722, 0.06428486, 0.0058123167, -0.0179737, 0.037893847, -0.01053622, -0.0060911155, -0.004547409, 0.035790972, -0.03495806, -0.029389823, 0.023983978, -0.0066549964, -0.042288776, -0.03828339, -0.0053916276, -0.033070922, 0.018329127, 0.016939225, -0.07700205, 0.014823276, -0.05176706, -0.055644967, -0.041816935, 0.028341575, 0.02950215, -0.048320863, 0.07811149, -0.027740875, -0.06867186, -0.0424968, -0.019831493, -0.006305981, -0.029162562, -0.009835197, -0.018512584, 0.029092344, 0.044737678, 0.0014512279, -0.00038594287, -0.05545489, -0.013894477, 0.109334655, 0.04702786, -0.030966235, 0.03290002, 0.016437551, -0.008408365, -0.037537973, 0.0005678493, 0.07795726, -0.08920659, -0.006269008, -0.039130762, 0.02369175, 0.02070825, 0.048349295, 0.0162588, 0.063775696, 0.017491978, -0.053967323, -0.028960474, -0.021590674, 0.023875946, -0.012984272, -0.063810736, 0.03680294, 0.009394948, 0.035101373, 0.033972, -0.059298847, -0.010956175, 0.0699244, 9.6520555e-05, -0.006371355, 0.019488432, 0.0031340725, 0.022905184, 0.022394592, 0.05097902, 0.009837807, -0.05083888, 0.011747348, 0.03581335, 0.015296017, -0.053574897, -0.018913558, -0.031279556, -0.0016373082, -0.048910502, -0.002425364, -0.06845597, -0.058336094, 0.029331861, 0.03817912, -0.06929551, -0.019095114, -0.014318229, -0.049903996, -0.012617108, -0.0056079426, 0.0007989725, 0.034992974, -0.026475687, -0.0067852275, 0.027905382, 0.0535628, -0.021308467, -0.08952088, 0.0034610825, 0.012916952, 0.031634245, 0.017101122, 0.061505307, -0.014266124, -0.009933886, -0.0041839746, -0.036543675, 0.02773269, 0.03843065, -0.032127507, -0.006540577, 0.013144301, 0.008001192, -0.045629505, -0.08716353, -0.009222222, -0.01393333, -0.008905134, -0.008976451, -0.06313307, -0.008332908, 0.05375805, 0.0005370319, -0.05225274, -0.007225926, 0.0290122, -0.03535818, -0.029181575, 0.046869423, 0.012001931, 0.016800348, -0.0274767, -0.039664388, -0.03322436, -0.046470925, 0.019579438, -0.045032807, -0.040755037, -0.015292881, -0.0139142135, -0.003334446, -0.04891593, 1.1813855e-05, -0.05895891, 0.016766172, 0.021499643, 0.0107877515, 0.022774806, 0.011604856, 0.020388087, 0.006867364, 0.045947053, -0.011363018, -0.01084844, -0.005116018, 0.013951252, -0.033221748, 0.03140672, -0.027586954, 0.0028734158, -0.026617328, -0.009294057, 0.043596946, -0.0015315213, 0.0058308025, 0.03614383, -0.042944156, -0.049693543, -0.057158083, 0.04007424, 0.033148598, -0.0147231, -0.025307845, -0.003682282, 0.013379624, -0.0023214435, -0.03792156, 0.023146844, 0.091335446, 0.012593496, 0.02795453, 0.021586359, -0.047378566, -0.037130557, 0.03737575, -0.055593632, 0.030800793, -0.0050651804, 0.024341235, 0.00096261984, -0.05151386, -0.00054909836, 0.029648166, 0.0035190685, 0.056373548, -0.023681354, 0.003998294, -0.035832085, -0.013149141, 0.03644624, -0.0235302, -0.011647115, -0.008019887, -0.015392295, 0.009075484, -0.04458859, -0.06698515, 0.014561859, 0.02515629, -0.02974298, 0.014349263, -0.004863985, 0.020383531, 0.019005269, -0.00028801247, -0.047264356, 0.04349392, 0.056388374, -0.04026549, 0.021508204, -0.02553433, -0.011709711, 0.04786552, 0.014631358, 0.01672999, 0.007922471, -0.023810612, -0.031055987, 0.006292651, -0.021876955, 0.036981635, -0.056952994, -0.031529516, -0.039202143, 0.0030664355, -0.0024653566, -0.032428678, -0.0461939, -0.013049201, -0.029776365, 0.014003323, 0.056683697, 0.03713328, -0.048106372, -0.030769968, -0.012752755, 0.08167047, -0.041139822, -0.038140606, 0.032705057, -0.020077609, -0.035980005, 0.052495997, 0.03862346, -0.0031773981, -0.05845166, -0.024762502, -0.010053576, 0.016235765, 0.04467299, 0.061125677, 0.011193266, 0.017222296, -0.025177537, 0.012925958, -0.032720447, -0.0076777064, -0.026610333, -0.039173014, -0.03359394, 0.009691677, -0.0056802044, 0.008371625, -0.0051209345, -0.023819778, -0.024073865, -0.033688243, -0.00058896997, 0.060861513, -0.059183527, 0.058308445, -0.013025945, -0.014754755, -0.06280286, -0.060608573, -0.090338275, 0.023556277, 0.058178406, 0.0027757422, -0.026518578, -0.012195262, -0.0673401, -0.020835863, -0.042064834, 0.021234617, 0.001642649, -0.0397378, -0.0372418, 0.04451029, 0.06240313, 0.030125275, -0.01765635, 0.0149200065, -0.0055602184, 0.021834942, 0.019538945, -0.053050615, 0.0006770582, -0.012515238, -0.008910767, -0.0031069191, -0.043849196, -0.02445472, 0.051884785, 0.012157951, 0.035222106, 0.0133929, -0.0044243718, 0.012400321, 0.037166744, -0.03278151, 0.012215532, 0.006678271, -0.04204869, 0.002058812, 0.029301869, -0.02114672, 0.05393052, 0.0704722, 0.015968166, -0.04035691, -0.024801861, -0.032418165, -0.026610715, 0.035372946, -0.029719332, -0.0020456372, 0.011732558, -0.008056168, 0.025127675, 0.009779763, -0.008752375, 0.035175476, 0.0028187367, 0.041336656, 0.003996477, 0.022268489, 0.053913996, 0.01632148, 0.024249163, 0.01551613, 0.011798757, -0.07421629, 0.03716949, -0.019862654, -0.026323877, 0.039201424, -0.024672914, -0.0045770044, -0.019450607, 0.03968505, 0.049203046, 0.0035117522, 0.0043840692, 0.04664408, 0.0132723795, 0.026756387, -0.024742171, 0.04999117, -0.0003165141, 0.019835977, -0.024293656, -0.04497084, -0.023502316, 0.006404561, -0.005770496, -0.058771223, -0.102801934, 0.028809067, 0.013155246, -0.012661789, -0.019525906, -0.014200357, -0.057283312, 0.041362472, -0.046732545, -0.011961513, 0.008645371, 0.030905772, -0.032176442, -0.03893427, 0.008145286, 0.040314715, -0.01876926, 0.083885655, -0.010130982, -0.030131117, -0.026759353, 0.062120747, -0.07944225, 0.016800188, 0.04077354, 0.04325719, 0.018784488, 0.1013486, -0.019747958, -0.0009779986, 0.009125623, -0.003942814, -0.010400235, 0.0172707, -0.02640701, -0.020264983, 0.102293424, -0.0072750123, 0.0014939959, -0.0069409567, -0.008724342, 0.028272618, 0.0009038964, -0.076945074, 0.063464165, -0.0139097795, -0.022346912, 0.027349629, 0.037828874, 0.0070822313, -0.040330384, -0.028082537, -0.00017756775, 0.020093312, -0.045845546, 0.09541593, -0.039257023, 0.03791754, -0.001448134, -0.020434255, 0.046194598, 0.017575134, 0.014261945, -0.007835099, 0.0091715455, -0.012532553, -0.036098093, -0.032152496, -0.0050542434, 0.024540288, 0.058209855, 0.035782367, -0.019415472, 0.004068701, 0.03463108, 0.0009440257, -0.010580554, 0.042918757, -0.012149854, -0.047819946, -0.06617604, 0.050279994, 0.06289599, 0.026035026, 0.06673068, -0.006821498, -0.0062883585, 0.0062252334, 0.0017322007, -0.0028511288, 0.0028652647, 0.00845921, -0.0017890994, -0.053161867, 0.023761751, 0.06167471, -0.019130446, 0.0076414156, 0.057989217, -0.032791905, -0.08403608, -0.047877997, 0.009769007, -0.030705925, 0.023286428, 0.016081324, -0.016692659, 0.034376375, 0.031311244, -0.029862398, -0.04536517, 0.0014386126, -0.01611211, -0.04096335, 0.02516818, -0.03560811, -0.03200382, 0.058622006, -0.018545106, -0.031399503, -0.07986146, -0.03422693, -0.012748326, -0.029260388, 0.08516241, 0.042448044, -0.034825224, 0.044826712, -0.023079218, -0.0068839886, 0.04721789, 0.07657148, 0.055370774, -0.00085339195, -0.03187909, -0.00420109, 0.01725492, 0.011668483, -0.018730432, 0.03807196, 0.054178797, -0.015170695, 0.009988324, 0.005230084, -0.004386322, -0.0426455, 0.026078366, 0.03601971, -0.016851505, 0.008586476, -0.013384468, 0.02963746, 0.033485908, -0.053109866, -0.003365904, -0.0060132286, 0.048407815, 0.038996942, -0.018329838, 0.020535309, 0.023616064, 0.037104793, -0.032038055, 0.052976143, -0.06981533, -0.080388755, 0.004363412, -0.039018847, -0.024620406, -0.0015828416, -0.0042656423, -0.10289239, 0.037035543, 0.023612756, 0.037184343, 0.003098531, -0.09410304, -0.019070705, 0.030682122, -0.02448787, 0.016269803, -0.042566787, -0.025626466, 0.0032578155, -0.062120296, -0.018936595, 0.029393459, -0.045330025, 0.100772545, -0.015648741, 0.05430915, -0.0075132623, -0.09404047, 0.023231555, 0.02292772, 0.038344715, 0.029213555, 0.035581127, -0.0484335, -0.02002272, -0.04607438, -0.044960577, -0.03570261, -0.039912507, 0.023129368, 0.02445081, 0.055775966, 0.039016884, -0.012422184, 0.0038420048, 0.045615036, 0.013833019, -0.0022546102, -0.02221027, 0.0088536795, 0.033547994, 0.043399844, 0.044181738, 0.03972114, 0.011038157, 0.014935008]\n"
     ]
    }
   ],
   "source": [
    "print(query_vector)"
   ]
  },
  {
   "cell_type": "code",
   "execution_count": 25,
   "id": "4325736e",
   "metadata": {},
   "outputs": [],
   "source": [
    "user_query = \"What are the key things to consider when working on F1 Stem opt \" \n",
    "\n",
    "query_vector = genai.embed_content(\n",
    "    model=\"models/embedding-001\",   # same model as you used before\n",
    "    content=user_query\n",
    ")[\"embedding\"]\n",
    "results = index.query(\n",
    "    vector=query_vector,\n",
    "    top_k = 10,                # number of most relevant chunks to fetch\n",
    "    include_metadata=True,  # so you also get back your original text\n",
    ")"
   ]
  },
  {
   "cell_type": "code",
   "execution_count": 26,
   "id": "c056d312",
   "metadata": {},
   "outputs": [
    {
     "name": "stdout",
     "output_type": "stream",
     "text": [
      "{'matches': [{'id': 'doc_524_chunk1',\n",
      "              'metadata': {'chunk': 'Key insights include:',\n",
      "                           'original_text_length': 18052.0,\n",
      "                           'source': 'USCIS website',\n",
      "                           'timestamp': '2025-10-22T16:54:32.344580',\n",
      "                           'url': '/www.uscis.gov/sites/default/files/document/data/all_forms_performancedata_fy2015_qtr4.html'},\n",
      "              'score': 0.633652329,\n",
      "              'values': []},\n",
      "             {'id': 'doc_447_chunk1',\n",
      "              'metadata': {'chunk': '**Key points include:**',\n",
      "                           'original_text_length': 41725.0,\n",
      "                           'source': 'USCIS website',\n",
      "                           'timestamp': '2025-10-22T16:52:42.073898',\n",
      "                           'url': '/www.uscis.gov/policy-manual/volume-8-part-g-chapter-7.html'},\n",
      "              'score': 0.625945687,\n",
      "              'values': []},\n",
      "             {'id': 'doc_822_chunk1',\n",
      "              'metadata': {'chunk': '*   **F-1 OPT (선택적 실습 교육):** F-1 학생에게 '\n",
      "                                    'STEM 관련 분야에서 최대 36개월(초기 OPT 12개월 + STEM '\n",
      "                                    'OPT 24개월)의 취업 허가를 제공합니다. STEM OPT 연장에는 고용 '\n",
      "                                    '제안이 필요합니다.\\n'\n",
      "                                    '*   **H-1B (전문 직종):** 관련 학사 학위 이상 또는 이에 '\n",
      "                                    '상응하는 교육/경험이 필요합니다. 고용 제안은 해당 직책이 고도의 전문 '\n",
      "                                    '지식을 요구해야 함을 명시해야 합니다. 최대 3년 + 3년 연장 가능하며, '\n",
      "                                    '영주권 절차가 진행 중일 경우 추가 연장이 가능합니다.\\n'\n",
      "                                    '*   **J-1 (교환 방문자):** 미국 국무부 지정 스폰서의 승인이 '\n",
      "                                    '필요하며, 요구되는 경력은 프로그램에 따라 다릅니다. 최대 5년까지 '\n",
      "                                    '가능합니다.',\n",
      "                           'original_text_length': 6126.0,\n",
      "                           'source': 'USCIS website',\n",
      "                           'timestamp': '2025-10-22T17:07:15.732884',\n",
      "                           'url': '/www.uscis.gov/working-in-the-united-states/stem-employment-pathways/options-for-alien-stem-professionals-to-work-in-the-united-states-korean.html'},\n",
      "              'score': 0.62165314,\n",
      "              'values': []},\n",
      "             {'id': 'doc_821_chunk0',\n",
      "              'metadata': {'chunk': 'This document outlines temporary and '\n",
      "                                    'permanent pathways for non-U.S. citizens '\n",
      "                                    'working in STEM fields in the United '\n",
      "                                    'States, along with key considerations for '\n",
      "                                    'STEM professionals.\\n'\n",
      "                                    '\\n'\n",
      "                                    '**Key Considerations for Choosing a STEM '\n",
      "                                    'Pathway:**',\n",
      "                           'original_text_length': 4717.0,\n",
      "                           'source': 'USCIS website',\n",
      "                           'timestamp': '2025-10-22T17:07:11.343749',\n",
      "                           'url': '/www.uscis.gov/working-in-the-united-states/stem-employment-pathways/options-for-alien-stem-professionals-to-work-in-the-united-states-chinese.html'},\n",
      "              'score': 0.619776428,\n",
      "              'values': []},\n",
      "             {'id': 'doc_824_chunk0',\n",
      "              'metadata': {'chunk': 'The STEM OPT Extension program allows '\n",
      "                                    'eligible F-1 students with STEM degrees '\n",
      "                                    'to extend their post-completion Optional '\n",
      "                                    'Practical Training (OPT) by 24 months. To '\n",
      "                                    'qualify, students must currently be in a '\n",
      "                                    'valid OPT period, have earned a STEM '\n",
      "                                    'degree from an accredited and '\n",
      "                                    'SEVP-certified institution, and secure '\n",
      "                                    'employment with an employer that meets '\n",
      "                                    'specific requirements. Previously '\n",
      "                                    'obtained STEM degrees or future '\n",
      "                                    'higher-level STEM degrees can also be '\n",
      "                                    'used for extensions, provided the '\n",
      "                                    'practical',\n",
      "                           'original_text_length': 17683.0,\n",
      "                           'source': 'USCIS website',\n",
      "                           'timestamp': '2025-10-22T17:07:20.647550',\n",
      "                           'url': '/www.uscis.gov/working-in-the-united-states/students-and-exchange-visitors/optional-practical-training-extension-for-stem-students-stem-opt.html'},\n",
      "              'score': 0.61576879,\n",
      "              'values': []},\n",
      "             {'id': 'doc_821_chunk5',\n",
      "              'metadata': {'chunk': '*   **F-1 OPT:** Post-graduation Optional '\n",
      "                                    'Practical Training for F-1 students with '\n",
      "                                    'STEM degrees. Offers up to 12 months, '\n",
      "                                    'with a potential 24-month STEM OPT '\n",
      "                                    'extension.\\n'\n",
      "                                    '*   **H-1B:** For \"specialty occupations\" '\n",
      "                                    \"requiring a U.S. bachelor's degree or \"\n",
      "                                    'equivalent. Typically allows up to six '\n",
      "                                    'years, with potential extensions for '\n",
      "                                    'those pursuing permanent residency. '\n",
      "                                    'Subject to annual caps and often involves '\n",
      "                                    'a lottery.',\n",
      "                           'original_text_length': 4717.0,\n",
      "                           'source': 'USCIS website',\n",
      "                           'timestamp': '2025-10-22T17:07:11.343749',\n",
      "                           'url': '/www.uscis.gov/working-in-the-united-states/stem-employment-pathways/options-for-alien-stem-professionals-to-work-in-the-united-states-chinese.html'},\n",
      "              'score': 0.607112348,\n",
      "              'values': []},\n",
      "             {'id': 'doc_824_chunk5',\n",
      "              'metadata': {'chunk': 'scrutiny to ensure a genuine '\n",
      "                                    'employer-employee relationship. Employers '\n",
      "                                    'attest to these responsibilities by '\n",
      "                                    'completing Form I-983, Training Plan for '\n",
      "                                    'STEM OPT Students, which DHS may verify '\n",
      "                                    'through site visits.',\n",
      "                           'original_text_length': 17683.0,\n",
      "                           'source': 'USCIS website',\n",
      "                           'timestamp': '2025-10-22T17:07:20.647550',\n",
      "                           'url': '/www.uscis.gov/working-in-the-united-states/students-and-exchange-visitors/optional-practical-training-extension-for-stem-students-stem-opt.html'},\n",
      "              'score': 0.603445947,\n",
      "              'values': []},\n",
      "             {'id': 'doc_818_chunk4',\n",
      "              'metadata': {'chunk': '**Exclusions:**\\n'\n",
      "                                    '\\n'\n",
      "                                    '*   F-1 visa students applying for STEM '\n",
      "                                    'OPT extensions are not eligible for the '\n",
      "                                    'extended automatic extension period under '\n",
      "                                    'the 2022 or 2024 temporary final rules, '\n",
      "                                    'though they are eligible for a standard '\n",
      "                                    '180-day automatic extension while their '\n",
      "                                    'STEM OPT application is pending.',\n",
      "                           'original_text_length': 18175.0,\n",
      "                           'source': 'USCIS website',\n",
      "                           'timestamp': '2025-10-22T17:07:03.836823',\n",
      "                           'url': '/www.uscis.gov/working-in-the-united-states/information-for-employers-and-employees/automatic-employment-authorization-document-ead-extension-french.html'},\n",
      "              'score': 0.601713121,\n",
      "              'values': []},\n",
      "             {'id': 'doc_780_chunk1',\n",
      "              'metadata': {'chunk': 'Key observations from the data include:',\n",
      "                           'original_text_length': 11797.0,\n",
      "                           'source': 'USCIS website',\n",
      "                           'timestamp': '2025-10-22T17:06:04.386967',\n",
      "                           'url': '/www.uscis.gov/sites/default/files/document/reports/I130_performancedata_fy2021_qtr4.html'},\n",
      "              'score': 0.601641238,\n",
      "              'values': []},\n",
      "             {'id': 'doc_620_chunk1',\n",
      "              'metadata': {'chunk': 'Key observations from the data include:',\n",
      "                           'original_text_length': 9459.0,\n",
      "                           'source': 'USCIS website',\n",
      "                           'timestamp': '2025-10-22T17:02:24.401384',\n",
      "                           'url': '/www.uscis.gov/sites/default/files/document/data/I140_FY23_Q1_REC_COB.html'},\n",
      "              'score': 0.601641238,\n",
      "              'values': []}],\n",
      " 'namespace': '',\n",
      " 'usage': {'read_units': 1}}\n"
     ]
    }
   ],
   "source": [
    "print(results)"
   ]
  },
  {
   "cell_type": "code",
   "execution_count": 29,
   "id": "01f969a0",
   "metadata": {},
   "outputs": [
    {
     "name": "stdout",
     "output_type": "stream",
     "text": [
      "Score: 0.6337 | Doc: doc_524_chunk1\n",
      "Chunk: Key insights include:...\n",
      "\n",
      "Score: 0.6259 | Doc: doc_447_chunk1\n",
      "Chunk: Key insights include:**Key points include:**...\n",
      "\n",
      "Score: 0.6217 | Doc: doc_822_chunk1\n",
      "Chunk: Key insights include:**Key points include:***   **F-1 OPT (선택적 실습 교육):** F-1 학생에게 STEM 관련 분야에서 최대 36개월(초기 OPT 12개월 + STEM OPT 24개월)의 취업 허가를 제공합니다. STEM OPT 연장에는 고용 제안이 필요합니다.\n",
      "*   **H-1B (전문 직종):** 관련 ...\n",
      "\n",
      "Score: 0.6198 | Doc: doc_821_chunk0\n",
      "Chunk: Key insights include:**Key points include:***   **F-1 OPT (선택적 실습 교육):** F-1 학생에게 STEM 관련 분야에서 최대 36개월(초기 OPT 12개월 + STEM OPT 24개월)의 취업 허가를 제공합니다. STEM OPT 연장에는 고용 제안이 필요합니다.\n",
      "*   **H-1B (전문 직종):** 관련 ...\n",
      "\n",
      "Score: 0.6158 | Doc: doc_824_chunk0\n",
      "Chunk: Key insights include:**Key points include:***   **F-1 OPT (선택적 실습 교육):** F-1 학생에게 STEM 관련 분야에서 최대 36개월(초기 OPT 12개월 + STEM OPT 24개월)의 취업 허가를 제공합니다. STEM OPT 연장에는 고용 제안이 필요합니다.\n",
      "*   **H-1B (전문 직종):** 관련 ...\n",
      "\n",
      "Score: 0.6071 | Doc: doc_821_chunk5\n",
      "Chunk: Key insights include:**Key points include:***   **F-1 OPT (선택적 실습 교육):** F-1 학생에게 STEM 관련 분야에서 최대 36개월(초기 OPT 12개월 + STEM OPT 24개월)의 취업 허가를 제공합니다. STEM OPT 연장에는 고용 제안이 필요합니다.\n",
      "*   **H-1B (전문 직종):** 관련 ...\n",
      "\n",
      "Score: 0.6034 | Doc: doc_824_chunk5\n",
      "Chunk: Key insights include:**Key points include:***   **F-1 OPT (선택적 실습 교육):** F-1 학생에게 STEM 관련 분야에서 최대 36개월(초기 OPT 12개월 + STEM OPT 24개월)의 취업 허가를 제공합니다. STEM OPT 연장에는 고용 제안이 필요합니다.\n",
      "*   **H-1B (전문 직종):** 관련 ...\n",
      "\n",
      "Score: 0.6017 | Doc: doc_818_chunk4\n",
      "Chunk: Key insights include:**Key points include:***   **F-1 OPT (선택적 실습 교육):** F-1 학생에게 STEM 관련 분야에서 최대 36개월(초기 OPT 12개월 + STEM OPT 24개월)의 취업 허가를 제공합니다. STEM OPT 연장에는 고용 제안이 필요합니다.\n",
      "*   **H-1B (전문 직종):** 관련 ...\n",
      "\n",
      "Score: 0.6016 | Doc: doc_780_chunk1\n",
      "Chunk: Key insights include:**Key points include:***   **F-1 OPT (선택적 실습 교육):** F-1 학생에게 STEM 관련 분야에서 최대 36개월(초기 OPT 12개월 + STEM OPT 24개월)의 취업 허가를 제공합니다. STEM OPT 연장에는 고용 제안이 필요합니다.\n",
      "*   **H-1B (전문 직종):** 관련 ...\n",
      "\n",
      "Score: 0.6016 | Doc: doc_620_chunk1\n",
      "Chunk: Key insights include:**Key points include:***   **F-1 OPT (선택적 실습 교육):** F-1 학생에게 STEM 관련 분야에서 최대 36개월(초기 OPT 12개월 + STEM OPT 24개월)의 취업 허가를 제공합니다. STEM OPT 연장에는 고용 제안이 필요합니다.\n",
      "*   **H-1B (전문 직종):** 관련 ...\n",
      "\n"
     ]
    }
   ],
   "source": [
    "text = \"\"\n",
    "for match in results[\"matches\"]:\n",
    "    score = match[\"score\"]             # similarity score\n",
    "    text += match[\"metadata\"][\"chunk\"]   # your stored chunk\n",
    "    chunk_id = match[\"id\"]   # original doc ID\n",
    "    \n",
    "    print(f\"Score: {score:.4f} | Doc: {chunk_id}\")\n",
    "    print(f\"Chunk: {text[:200]}...\\n\")"
   ]
  },
  {
   "cell_type": "code",
   "execution_count": 7,
   "id": "b7e1dd9a",
   "metadata": {},
   "outputs": [
    {
     "name": "stdout",
     "output_type": "stream",
     "text": [
      "\n"
     ]
    }
   ],
   "source": [
    "print(text)"
   ]
  },
  {
   "cell_type": "code",
   "execution_count": 19,
   "id": "1dafc87d",
   "metadata": {},
   "outputs": [
    {
     "name": "stdout",
     "output_type": "stream",
     "text": [
      "1767\n"
     ]
    }
   ],
   "source": [
    "print(len(text))"
   ]
  },
  {
   "cell_type": "code",
   "execution_count": 30,
   "id": "e8ac9195",
   "metadata": {},
   "outputs": [],
   "source": [
    "system_prompt = f\"\"\" You are a helpful agent for international students use the following information to provide the answer better use the context to answer the question.\n",
    "context: {text}\n",
    "\"\"\""
   ]
  },
  {
   "cell_type": "code",
   "execution_count": 31,
   "id": "d9c0b815",
   "metadata": {},
   "outputs": [],
   "source": [
    "model = genai.GenerativeModel(\n",
    "    model_name=\"gemini-2.5-flash\",\n",
    "    system_instruction=system_prompt,\n",
    ")"
   ]
  },
  {
   "cell_type": "code",
   "execution_count": 32,
   "id": "360eb9e2",
   "metadata": {},
   "outputs": [
    {
     "name": "stdout",
     "output_type": "stream",
     "text": [
      "response:\n",
      "GenerateContentResponse(\n",
      "    done=True,\n",
      "    iterator=None,\n",
      "    result=protos.GenerateContentResponse({\n",
      "      \"candidates\": [\n",
      "        {\n",
      "          \"content\": {\n",
      "            \"parts\": [\n",
      "              {\n",
      "                \"text\": \"When considering F-1 STEM OPT, here are the key things from the provided context:\\n\\n*   **Eligibility:**\\n    *   You must be an F-1 student currently in a valid OPT period.\\n    *   You must have earned a STEM degree from an accredited and SEVP-certified institution.\\n    *   Previously obtained STEM degrees or future higher-level STEM degrees can also be used for extensions.\\n*   **Duration:**\\n    *   It provides up to 12 months of initial OPT.\\n    *   There's a potential 24-month STEM OPT extension, bringing the total to a maximum of 36 months for STEM-related fields.\\n*   **Employment Requirements:**\\n    *   You need to secure employment with an employer that meets specific requirements.\\n    *   An employment offer is required for the STEM OPT extension.\\n    *   There must be a genuine employer-employee relationship, which may be subject to scrutiny.\\n    *   Employers must complete Form I-983 (Training Plan for STEM OPT Students).\\n    *   DHS may verify employer responsibilities and training plans through site visits.\\n*   **Application & Extensions:**\\n    *   While your STEM OPT application is pending, you are eligible for a standard 180-day automatic extension.\\n    *   **Exclusion:** F-1 visa students applying for STEM OPT extensions are **not** eligible for the extended automatic extension period under the 2022 or 2024 temporary final rules.\"\n",
      "              }\n",
      "            ],\n",
      "            \"role\": \"model\"\n",
      "          },\n",
      "          \"finish_reason\": \"STOP\",\n",
      "          \"index\": 0\n",
      "        }\n",
      "      ],\n",
      "      \"usage_metadata\": {\n",
      "        \"prompt_token_count\": 604,\n",
      "        \"candidates_token_count\": 323,\n",
      "        \"total_token_count\": 1135\n",
      "      },\n",
      "      \"model_version\": \"gemini-2.5-flash\"\n",
      "    }),\n",
      ")\n"
     ]
    }
   ],
   "source": [
    "response = model.generate_content(user_query)\n",
    "print(response)"
   ]
  },
  {
   "cell_type": "code",
   "execution_count": 33,
   "id": "c66f0838",
   "metadata": {},
   "outputs": [
    {
     "data": {
      "text/plain": [
       "\"When considering F-1 STEM OPT, here are the key things from the provided context:\\n\\n*   **Eligibility:**\\n    *   You must be an F-1 student currently in a valid OPT period.\\n    *   You must have earned a STEM degree from an accredited and SEVP-certified institution.\\n    *   Previously obtained STEM degrees or future higher-level STEM degrees can also be used for extensions.\\n*   **Duration:**\\n    *   It provides up to 12 months of initial OPT.\\n    *   There's a potential 24-month STEM OPT extension, bringing the total to a maximum of 36 months for STEM-related fields.\\n*   **Employment Requirements:**\\n    *   You need to secure employment with an employer that meets specific requirements.\\n    *   An employment offer is required for the STEM OPT extension.\\n    *   There must be a genuine employer-employee relationship, which may be subject to scrutiny.\\n    *   Employers must complete Form I-983 (Training Plan for STEM OPT Students).\\n    *   DHS may verify employer responsibilities and training plans through site visits.\\n*   **Application & Extensions:**\\n    *   While your STEM OPT application is pending, you are eligible for a standard 180-day automatic extension.\\n    *   **Exclusion:** F-1 visa students applying for STEM OPT extensions are **not** eligible for the extended automatic extension period under the 2022 or 2024 temporary final rules.\""
      ]
     },
     "execution_count": 33,
     "metadata": {},
     "output_type": "execute_result"
    }
   ],
   "source": [
    "response.text"
   ]
  }
 ],
 "metadata": {
  "kernelspec": {
   "display_name": "env (3.12.1)",
   "language": "python",
   "name": "python3"
  },
  "language_info": {
   "codemirror_mode": {
    "name": "ipython",
    "version": 3
   },
   "file_extension": ".py",
   "mimetype": "text/x-python",
   "name": "python",
   "nbconvert_exporter": "python",
   "pygments_lexer": "ipython3",
   "version": "3.12.1"
  }
 },
 "nbformat": 4,
 "nbformat_minor": 5
}

{
 "cells": [
  {
   "cell_type": "code",
   "execution_count": 11,
   "id": "9d3c58ce",
   "metadata": {},
   "outputs": [],
   "source": [
    "from dotenv import load_dotenv\n",
    "from pinecone import Pinecone\n",
    "import os\n",
    "import google.generativeai as genai\n",
    "\n",
    "load_dotenv()\n",
    "\n",
    "api_key = os.getenv(\"PINE_CONE_KEY\")\n",
    "pc = Pinecone(api_key = api_key)\n",
    "index = pc.Index(\"f1rag\")\n",
    "\n",
    "api_key = os.getenv(\"GEMINI_API_KEY\")\n",
    "genai.configure(api_key=api_key)"
   ]
  },
  {
   "cell_type": "code",
   "execution_count": 14,
   "id": "1f922784",
   "metadata": {},
   "outputs": [],
   "source": [
    "user_query = \"How long can M1 students stay in USA on Visa\" \n",
    "\n",
    "query_vector = genai.embed_content(\n",
    "    model=\"models/embedding-001\",   # same model as you used before\n",
    "    content=user_query\n",
    ")[\"embedding\"]"
   ]
  },
  {
   "cell_type": "code",
   "execution_count": null,
   "id": "4325736e",
   "metadata": {},
   "outputs": [],
   "source": [
    "results = index.query(\n",
    "    vector=query_vector,\n",
    "    top_k = 5,                # number of most relevant chunks to fetch\n",
    "    include_metadata=True,  # so you also get back your original text\n",
    "    namespace=\"f1rag\"\n",
    ")"
   ]
  },
  {
   "cell_type": "code",
   "execution_count": 16,
   "id": "c056d312",
   "metadata": {},
   "outputs": [
    {
     "name": "stdout",
     "output_type": "stream",
     "text": [
      "{'matches': [{'id': '13_chunk_12',\n",
      "              'metadata': {'chunk_index': 12.0,\n",
      "                           'docid': 13.0,\n",
      "                           'notes': 'This document outlines the regulations '\n",
      "                                    'regarding Change of Status (COS), '\n",
      "                                    'Extension of Stay, and Length of Stay for '\n",
      "                                    'F-1 (academic) and M-1 (vocational) '\n",
      "                                    'nonimmigrant students in the United '\n",
      "                                    'States.',\n",
      "                           'text': '*   **M-1 Students:** Admitted for a fixed '\n",
      "                                   'period, which is the time needed to '\n",
      "                                   'complete the course, plus any authorized '\n",
      "                                   'practical training, plus 30 days for '\n",
      "                                   'departure. The total period cannot exceed '\n",
      "                                   '1 year. They can be admitted up to 30 days '\n",
      "                                   'before the I-20 start date.',\n",
      "                           'url': 'https://www.uscis.gov/policy-manual/volume-2-part-f-chapter-8'},\n",
      "              'score': 0.865959167,\n",
      "              'values': []},\n",
      "             {'id': '13_chunk_9',\n",
      "              'metadata': {'chunk_index': 9.0,\n",
      "                           'docid': 13.0,\n",
      "                           'notes': 'This document outlines the regulations '\n",
      "                                    'regarding Change of Status (COS), '\n",
      "                                    'Extension of Stay, and Length of Stay for '\n",
      "                                    'F-1 (academic) and M-1 (vocational) '\n",
      "                                    'nonimmigrant students in the United '\n",
      "                                    'States.',\n",
      "                           'text': '*   **M-1 Students:** Cumulative time of '\n",
      "                                   'extensions, including practical training, '\n",
      "                                   'cannot exceed 3 years from the original '\n",
      "                                   'start date.\\n'\n",
      "                                   '    *   **Application:** M-1 students must '\n",
      "                                   'apply to USCIS for an extension using Form '\n",
      "                                   'I-539 at least 15 days, but not more than '\n",
      "                                   '60 days, before the I-20 end date. They '\n",
      "                                   'must demonstrate compelling educational or '\n",
      "                                   'medical reasons for the delay and intent '\n",
      "                                   'to maintain status.',\n",
      "                           'url': 'https://www.uscis.gov/policy-manual/volume-2-part-f-chapter-8'},\n",
      "              'score': 0.8239972,\n",
      "              'values': []},\n",
      "             {'id': '13_chunk_10',\n",
      "              'metadata': {'chunk_index': 10.0,\n",
      "                           'docid': 13.0,\n",
      "                           'notes': 'This document outlines the regulations '\n",
      "                                    'regarding Change of Status (COS), '\n",
      "                                    'Extension of Stay, and Length of Stay for '\n",
      "                                    'F-1 (academic) and M-1 (vocational) '\n",
      "                                    'nonimmigrant students in the United '\n",
      "                                    'States.',\n",
      "                           'text': '*   **Period of Stay:** Extensions are '\n",
      "                                   'granted for the period needed to complete '\n",
      "                                   'the course plus 30 days to depart, or for '\n",
      "                                   'a total of 1 year, whichever is less.\\n'\n",
      "                                   '    *   **Reinstatement:** Similar to F-1, '\n",
      "                                   'M-1 students can request reinstatement via '\n",
      "                                   'Form I-539, meeting conditions such as '\n",
      "                                   'filing within 5 months, no willful '\n",
      "                                   'violations, and pursuing a full course, '\n",
      "                                   'with circumstances beyond their control '\n",
      "                                   'often being a factor.',\n",
      "                           'url': 'https://www.uscis.gov/policy-manual/volume-2-part-f-chapter-8'},\n",
      "              'score': 0.823187828,\n",
      "              'values': []},\n",
      "             {'id': '13_chunk_5',\n",
      "              'metadata': {'chunk_index': 5.0,\n",
      "                           'docid': 13.0,\n",
      "                           'notes': 'This document outlines the regulations '\n",
      "                                    'regarding Change of Status (COS), '\n",
      "                                    'Extension of Stay, and Length of Stay for '\n",
      "                                    'F-1 (academic) and M-1 (vocational) '\n",
      "                                    'nonimmigrant students in the United '\n",
      "                                    'States.',\n",
      "                           'text': '**2. Vocational Student (M-1)**\\n'\n",
      "                                   '*   This section is reserved in the policy '\n",
      "                                   'manual, but details are provided in other '\n",
      "                                   'sections regarding M-1 eligibility, '\n",
      "                                   'extensions, and length of stay.',\n",
      "                           'url': 'https://www.uscis.gov/policy-manual/volume-2-part-f-chapter-8'},\n",
      "              'score': 0.818649471,\n",
      "              'values': []},\n",
      "             {'id': '12_chunk_8',\n",
      "              'metadata': {'chunk_index': 8.0,\n",
      "                           'docid': 12.0,\n",
      "                           'notes': 'Chapter 7 of the USCIS Policy Manual, '\n",
      "                                    'outlines regulations for F-1 (academic) '\n",
      "                                    'and M-1 (vocational) students regarding '\n",
      "                                    'absences from the United States and '\n",
      "                                    'readmission.',\n",
      "                           'text': '*   **Maximum Stay:** F-1 status is '\n",
      "                                   '\"Duration of Status\"; M-1 is 1 year, with '\n",
      "                                   'extensions not to exceed 3 years '\n",
      "                                   'cumulatively.\\n'\n",
      "                                   '*   **Program Extension:** F-1 extensions '\n",
      "                                   'require compelling academic or medical '\n",
      "                                   'reasons and DSO approval before the I-20 '\n",
      "                                   'expires. M-1 extensions (up to 3 years '\n",
      "                                   'total) require filing Form I-539 with '\n",
      "                                   'USCIS.\\n'\n",
      "                                   '*   **Family Members:** Both F-1 and M-1 '\n",
      "                                   \"students' spouses and unmarried children \"\n",
      "                                   'under 21 are eligible for F-2 and M-2 visa '\n",
      "                                   'classifications, respectively.',\n",
      "                           'url': 'https://www.uscis.gov/policy-manual/volume-2-part-f-chapter-7'},\n",
      "              'score': 0.817647874,\n",
      "              'values': []}],\n",
      " 'namespace': 'f1rag',\n",
      " 'usage': {'read_units': 1}}\n"
     ]
    }
   ],
   "source": [
    "print(results)"
   ]
  },
  {
   "cell_type": "code",
   "execution_count": 17,
   "id": "01f969a0",
   "metadata": {},
   "outputs": [
    {
     "name": "stdout",
     "output_type": "stream",
     "text": [
      "Score: 0.8660 | Doc: 13.0\n",
      "Chunk: *   **M-1 Students:** Admitted for a fixed period, which is the time needed to complete the course, plus any authorized practical training, plus 30 days for departure. The total period cannot exceed 1...\n",
      "\n",
      "Score: 0.8240 | Doc: 13.0\n",
      "Chunk: *   **M-1 Students:** Admitted for a fixed period, which is the time needed to complete the course, plus any authorized practical training, plus 30 days for departure. The total period cannot exceed 1...\n",
      "\n",
      "Score: 0.8232 | Doc: 13.0\n",
      "Chunk: *   **M-1 Students:** Admitted for a fixed period, which is the time needed to complete the course, plus any authorized practical training, plus 30 days for departure. The total period cannot exceed 1...\n",
      "\n",
      "Score: 0.8186 | Doc: 13.0\n",
      "Chunk: *   **M-1 Students:** Admitted for a fixed period, which is the time needed to complete the course, plus any authorized practical training, plus 30 days for departure. The total period cannot exceed 1...\n",
      "\n",
      "Score: 0.8176 | Doc: 12.0\n",
      "Chunk: *   **M-1 Students:** Admitted for a fixed period, which is the time needed to complete the course, plus any authorized practical training, plus 30 days for departure. The total period cannot exceed 1...\n",
      "\n"
     ]
    }
   ],
   "source": [
    "text = \"\"\n",
    "for match in results[\"matches\"]:\n",
    "    score = match[\"score\"]             # similarity score\n",
    "    text += match[\"metadata\"][\"text\"]   # your stored chunk\n",
    "    doc_id = match[\"metadata\"][\"docid\"]   # original doc ID\n",
    "    \n",
    "    print(f\"Score: {score:.4f} | Doc: {doc_id}\")\n",
    "    print(f\"Chunk: {text[:200]}...\\n\")"
   ]
  },
  {
   "cell_type": "code",
   "execution_count": 18,
   "id": "b7e1dd9a",
   "metadata": {},
   "outputs": [
    {
     "name": "stdout",
     "output_type": "stream",
     "text": [
      "*   **M-1 Students:** Admitted for a fixed period, which is the time needed to complete the course, plus any authorized practical training, plus 30 days for departure. The total period cannot exceed 1 year. They can be admitted up to 30 days before the I-20 start date.*   **M-1 Students:** Cumulative time of extensions, including practical training, cannot exceed 3 years from the original start date.\n",
      "    *   **Application:** M-1 students must apply to USCIS for an extension using Form I-539 at least 15 days, but not more than 60 days, before the I-20 end date. They must demonstrate compelling educational or medical reasons for the delay and intent to maintain status.*   **Period of Stay:** Extensions are granted for the period needed to complete the course plus 30 days to depart, or for a total of 1 year, whichever is less.\n",
      "    *   **Reinstatement:** Similar to F-1, M-1 students can request reinstatement via Form I-539, meeting conditions such as filing within 5 months, no willful violations, and pursuing a full course, with circumstances beyond their control often being a factor.**2. Vocational Student (M-1)**\n",
      "*   This section is reserved in the policy manual, but details are provided in other sections regarding M-1 eligibility, extensions, and length of stay.*   **Maximum Stay:** F-1 status is \"Duration of Status\"; M-1 is 1 year, with extensions not to exceed 3 years cumulatively.\n",
      "*   **Program Extension:** F-1 extensions require compelling academic or medical reasons and DSO approval before the I-20 expires. M-1 extensions (up to 3 years total) require filing Form I-539 with USCIS.\n",
      "*   **Family Members:** Both F-1 and M-1 students' spouses and unmarried children under 21 are eligible for F-2 and M-2 visa classifications, respectively.\n"
     ]
    }
   ],
   "source": [
    "print(text)"
   ]
  },
  {
   "cell_type": "code",
   "execution_count": 19,
   "id": "1dafc87d",
   "metadata": {},
   "outputs": [
    {
     "name": "stdout",
     "output_type": "stream",
     "text": [
      "1767\n"
     ]
    }
   ],
   "source": [
    "print(len(text))"
   ]
  },
  {
   "cell_type": "code",
   "execution_count": 20,
   "id": "e8ac9195",
   "metadata": {},
   "outputs": [],
   "source": [
    "system_prompt = f\"\"\" You are a helpful agent for international students use the following information to provide the answer better\n",
    "context: {text}\n",
    "\"\"\""
   ]
  },
  {
   "cell_type": "code",
   "execution_count": 21,
   "id": "d9c0b815",
   "metadata": {},
   "outputs": [],
   "source": [
    "model = genai.GenerativeModel(\n",
    "    model_name=\"gemini-2.5-flash\",\n",
    "    system_instruction=system_prompt,\n",
    ")"
   ]
  },
  {
   "cell_type": "code",
   "execution_count": 22,
   "id": "360eb9e2",
   "metadata": {},
   "outputs": [
    {
     "name": "stdout",
     "output_type": "stream",
     "text": [
      "response:\n",
      "GenerateContentResponse(\n",
      "    done=True,\n",
      "    iterator=None,\n",
      "    result=protos.GenerateContentResponse({\n",
      "      \"candidates\": [\n",
      "        {\n",
      "          \"content\": {\n",
      "            \"parts\": [\n",
      "              {\n",
      "                \"text\": \"As an M-1 vocational student, your stay in the U.S. has specific time limits:\\n\\n1.  **Initial Admission:**\\n    *   You are admitted for the time needed to complete your course, plus any authorized practical training, plus an additional 30 days to prepare for departure.\\n    *   **The total period for this initial admission cannot exceed 1 year.**\\n    *   You are also permitted to be admitted into the U.S. up to **30 days before** your I-20 start date.\\n\\n2.  **Extensions:**\\n    *   You may apply for an extension of stay with USCIS using Form I-539 if you need more time due to compelling educational or medical reasons.\\n    *   Each extension is granted for the period needed to complete your course plus 30 days to depart, or for a total of 1 year, whichever is less.\\n    *   **Important Cumulative Limit:** The **cumulative time** you can stay in M-1 status, including your initial admission and all extensions (and practical training), **cannot exceed a total of 3 years from your original program start date.**\\n\\nIn summary, while your initial stay is limited to one year, you may extend it, but your overall time in M-1 status in the U.S. cannot go beyond three years from when your program first began.\"\n",
      "              }\n",
      "            ],\n",
      "            \"role\": \"model\"\n",
      "          },\n",
      "          \"finish_reason\": \"STOP\",\n",
      "          \"index\": 0\n",
      "        }\n",
      "      ],\n",
      "      \"usage_metadata\": {\n",
      "        \"prompt_token_count\": 460,\n",
      "        \"candidates_token_count\": 290,\n",
      "        \"total_token_count\": 1815\n",
      "      },\n",
      "      \"model_version\": \"gemini-2.5-flash\"\n",
      "    }),\n",
      ")\n"
     ]
    }
   ],
   "source": [
    "response = model.generate_content(user_query)\n",
    "print(response)"
   ]
  },
  {
   "cell_type": "code",
   "execution_count": 23,
   "id": "c66f0838",
   "metadata": {},
   "outputs": [
    {
     "data": {
      "text/plain": [
       "'As an M-1 vocational student, your stay in the U.S. has specific time limits:\\n\\n1.  **Initial Admission:**\\n    *   You are admitted for the time needed to complete your course, plus any authorized practical training, plus an additional 30 days to prepare for departure.\\n    *   **The total period for this initial admission cannot exceed 1 year.**\\n    *   You are also permitted to be admitted into the U.S. up to **30 days before** your I-20 start date.\\n\\n2.  **Extensions:**\\n    *   You may apply for an extension of stay with USCIS using Form I-539 if you need more time due to compelling educational or medical reasons.\\n    *   Each extension is granted for the period needed to complete your course plus 30 days to depart, or for a total of 1 year, whichever is less.\\n    *   **Important Cumulative Limit:** The **cumulative time** you can stay in M-1 status, including your initial admission and all extensions (and practical training), **cannot exceed a total of 3 years from your original program start date.**\\n\\nIn summary, while your initial stay is limited to one year, you may extend it, but your overall time in M-1 status in the U.S. cannot go beyond three years from when your program first began.'"
      ]
     },
     "execution_count": 23,
     "metadata": {},
     "output_type": "execute_result"
    }
   ],
   "source": [
    "response.text"
   ]
  }
 ],
 "metadata": {
  "kernelspec": {
   "display_name": "rag (3.12.1)",
   "language": "python",
   "name": "python3"
  },
  "language_info": {
   "codemirror_mode": {
    "name": "ipython",
    "version": 3
   },
   "file_extension": ".py",
   "mimetype": "text/x-python",
   "name": "python",
   "nbconvert_exporter": "python",
   "pygments_lexer": "ipython3",
   "version": "3.12.1"
  }
 },
 "nbformat": 4,
 "nbformat_minor": 5
}

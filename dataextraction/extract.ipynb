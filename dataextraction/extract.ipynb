{
 "cells": [
  {
   "cell_type": "code",
   "execution_count": null,
   "id": "75713d29",
   "metadata": {},
   "outputs": [],
   "source": [
    "from bs4 import BeautifulSoup\n",
    "import requests"
   ]
  },
  {
   "cell_type": "code",
   "execution_count": null,
   "id": "5e06e575",
   "metadata": {},
   "outputs": [],
   "source": [
    "url = \"https://www.uscis.gov/i-9-central\"\n",
    "\n",
    "response = requests.get(url)\n",
    "html_content = response.content\n"
   ]
  },
  {
   "cell_type": "code",
   "execution_count": null,
   "id": "c7a0b34f",
   "metadata": {},
   "outputs": [],
   "source": [
    "soup = BeautifulSoup(html_content, 'html.parser')\n",
    "main_content = soup.find(\"main\") or soup.find(id=\"main-content\")\n",
    "\n",
    "# Remove scripts, styles, headers, footers, etc.\n",
    "for tag in main_content([\"script\", \"style\", \"noscript\", \"header\", \"footer\"]):\n",
    "    tag.extract()\n",
    "\n",
    "# Function to extract table as structured text\n",
    "def extract_table(table_tag):\n",
    "    rows = []\n",
    "    for tr in table_tag.find_all(\"tr\"):\n",
    "        cells = [td.get_text(strip=True) for td in tr.find_all([\"td\", \"th\"])]\n",
    "        rows.append(\" | \".join(cells))  # preserves columns\n",
    "    return \"\\n\".join(rows)\n",
    "\n",
    "# Extract content in order\n",
    "content = []\n",
    "for element in main_content.descendants:\n",
    "    if element.name in [\"h1\", \"h2\", \"h3\"]:\n",
    "        text = element.get_text(strip=True)\n",
    "        if text:\n",
    "            content.append(f\"{element.name.upper()}: {text}\")\n",
    "    elif element.name == \"p\":\n",
    "        text = element.get_text(strip=True)\n",
    "        if text:\n",
    "            content.append(text)\n",
    "    elif element.name in [\"ul\", \"ol\"]:\n",
    "        for li in element.find_all(\"li\"):\n",
    "            li_text = li.get_text(strip=True)\n",
    "            if li_text:\n",
    "                content.append(f\"- {li_text}\")\n",
    "    elif element.name == \"table\":\n",
    "        table_text = extract_table(element)\n",
    "        if table_text:\n",
    "            content.append(f\"TABLE:\\n{table_text}\")\n",
    "\n",
    "# Combine everything into a single string for summarization\n",
    "all_text = \"\\n\\n\".join(content)\n",
    "\n",
    "# Print first 1000 characters to check\n",
    "print(all_text[:1000])"
   ]
  },
  {
   "cell_type": "code",
   "execution_count": null,
   "id": "f41a47e3",
   "metadata": {},
   "outputs": [],
   "source": [
    "import google.generativeai as genai\n",
    "from dotenv import load_dotenv\n",
    "import os\n",
    "import PIL.Image\n",
    "\n",
    "# Load environment variables from .env file\n",
    "load_dotenv()\n",
    "\n",
    "# Configure the genai library with your API key\n",
    "api_key = os.getenv(\"GOOGLE_API_KEY\")\n",
    "genai.configure(api_key=api_key)\n",
    "\n",
    "# Create an instance of the model\n",
    "# Note: 'gemini-1.5-flash' is the correct name for the latest Flash model.\n",
    "system_prompt = \"\"\"You are a summarization assistant, who summarize the content given to you from a webscrapper, which gives you a html format data and you will summarize the information in it to store the summary as vector in vectordatabase\"\"\"\n",
    "model = genai.GenerativeModel( model_name='gemini-2.5-flash',\n",
    "    system_instruction = system_prompt)\n",
    "\n",
    "# Generate content\n",
    "response = model.generate_content(\n",
    "    all_text,\n",
    ")\n",
    "\n",
    "# Print the generated text\n",
    "print(response.text)"
   ]
  },
  {
   "cell_type": "code",
   "execution_count": null,
   "id": "465508ff",
   "metadata": {},
   "outputs": [],
   "source": [
    "import json\n",
    "from datetime import datetime\n",
    "\n",
    "# Example metadata and summary\n",
    "summary_data ={\n",
    "        \"url\": url,\n",
    "        \"timestamp\": datetime.now().isoformat(),\n",
    "    \"original_text_length\": len(all_text),\n",
    "    \"summary\": response.text,\n",
    "    \"source\": \"USCIS website\",\n",
    "    \"notes\": \"This document outlines the regulations for F-2 and M-2 dependents of F-1 and M-1 student visa holders in the United States.\",\n",
    "    }\n",
    "\n",
    "# Save to JSON file\n",
    "output_file = \"summary.json\"\n"
   ]
  },
  {
   "cell_type": "code",
   "execution_count": null,
   "id": "014d77b8",
   "metadata": {},
   "outputs": [],
   "source": [
    "try:\n",
    "    with open(\"summary.json\", \"r\", encoding=\"utf-8\") as f:\n",
    "        all_summaries = json.load(f)\n",
    "except FileNotFoundError:\n",
    "    all_summaries = []\n",
    "\n",
    "all_summaries.append(summary_data)\n",
    "\n",
    "with open(\"summary.json\", \"w\", encoding=\"utf-8\") as f:\n",
    "    json.dump(all_summaries, f, ensure_ascii=False, indent=4)"
   ]
  },
  {
   "cell_type": "code",
   "execution_count": null,
   "id": "83ba46a2",
   "metadata": {},
   "outputs": [],
   "source": []
  }
 ],
 "metadata": {
  "kernelspec": {
   "display_name": "rag (3.12.1)",
   "language": "python",
   "name": "python3"
  },
  "language_info": {
   "codemirror_mode": {
    "name": "ipython",
    "version": 3
   },
   "file_extension": ".py",
   "mimetype": "text/x-python",
   "name": "python",
   "nbconvert_exporter": "python",
   "pygments_lexer": "ipython3",
   "version": "3.12.1"
  }
 },
 "nbformat": 4,
 "nbformat_minor": 5
}
